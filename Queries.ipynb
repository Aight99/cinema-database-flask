{
 "cells": [
  {
   "cell_type": "code",
   "execution_count": 1,
   "metadata": {
    "collapsed": true,
    "pycharm": {
     "name": "#%%\n"
    }
   },
   "outputs": [],
   "source": [
    "import pandas as pd\n",
    "import numpy as np\n",
    "import sqlite3"
   ]
  },
  {
   "cell_type": "code",
   "execution_count": 2,
   "outputs": [],
   "source": [
    "connection = sqlite3.connect(\"kino.sqlite\")\n",
    "cursor = connection.cursor()"
   ],
   "metadata": {
    "collapsed": false,
    "pycharm": {
     "name": "#%%\n"
    }
   }
  },
  {
   "cell_type": "markdown",
   "source": [
    "### Два запроса на выборку для связанных таблиц с условиями и сортировкой (JOIN)\n",
    "1. Выборка всех фильмов в списке пользователя по имени пользователя\n",
    "2. Выборка всех отзывов по фильму"
   ],
   "metadata": {
    "collapsed": false,
    "pycharm": {
     "name": "#%% md\n"
    }
   }
  },
  {
   "cell_type": "code",
   "execution_count": 3,
   "outputs": [],
   "source": [
    "username = \"userman\"\n",
    "film = \"Spider-Man: No Way Home\""
   ],
   "metadata": {
    "collapsed": false,
    "pycharm": {
     "name": "#%%\n"
    }
   }
  },
  {
   "cell_type": "code",
   "execution_count": 15,
   "outputs": [
    {
     "name": "stdout",
     "output_type": "stream",
     "text": [
      "                               Фильм Пользователь  Оценка         Статус\n",
      "0  Everything Everywhere All at Once      userman    10.0      Completed\n",
      "1            Spider-Man: No Way Home      userman     9.0      Completed\n",
      "2                  Avengers: Endgame      userman     9.0      Completed\n",
      "3                    The Mandalorian      userman     8.0      Completed\n",
      "4                       Harley Quinn      userman     5.0        Dropped\n",
      "5                             Arcane      userman     NaN       Watching\n",
      "6                 The Queen's Gambit      userman     NaN  Plan to Watch\n"
     ]
    }
   ],
   "source": [
    "select_result = pd.read_sql(f'''\n",
    " SELECT\n",
    " movie_name AS Фильм,\n",
    " user_login AS Пользователь,\n",
    " user_list_movie_rating AS Оценка,\n",
    " status_name AS Статус\n",
    " FROM\n",
    " user\n",
    " JOIN user_list_movie list ON user.user_id = list.user_id\n",
    " JOIN movie ON list.movie_id = movie.movie_id\n",
    " JOIN user_status ON list.status_id = user_status.status_id\n",
    " WHERE\n",
    " user.user_login = '{username}'\n",
    " ORDER BY\n",
    " Оценка DESC\n",
    "''', connection)\n",
    "print(select_result)"
   ],
   "metadata": {
    "collapsed": false,
    "pycharm": {
     "name": "#%%\n"
    }
   }
  },
  {
   "cell_type": "code",
   "execution_count": 16,
   "outputs": [
    {
     "name": "stdout",
     "output_type": "stream",
     "text": [
      "                     Фильм Пользователь  Оценка  \\\n",
      "0  Spider-Man: No Way Home      userman       9   \n",
      "1  Spider-Man: No Way Home       qwerty      10   \n",
      "\n",
      "                                         Отзыв  \n",
      "0  The amazing crossover of amazing spider-men  \n",
      "1                                         Nice  \n"
     ]
    }
   ],
   "source": [
    "select_result = pd.read_sql(f'''\n",
    " SELECT\n",
    " movie_name AS Фильм,\n",
    " user_login AS Пользователь,\n",
    " user_list_movie_rating AS Оценка,\n",
    " review AS Отзыв\n",
    " FROM\n",
    " movie\n",
    " JOIN user_list_movie list ON movie.movie_id = list.movie_id\n",
    " JOIN user ON list.user_id = user.user_id\n",
    " WHERE\n",
    " movie.movie_name = '{film}'\n",
    "''', connection)\n",
    "print(select_result)"
   ],
   "metadata": {
    "collapsed": false,
    "pycharm": {
     "name": "#%%\n"
    }
   }
  },
  {
   "cell_type": "markdown",
   "source": [
    "### Два запроса с группировкой и групповыми функциями (GROUP BY)\n",
    "1. Количество фильмов у пользователя по каждому из статусов\n",
    "2. Количество отзывов у фильмов"
   ],
   "metadata": {
    "collapsed": false,
    "pycharm": {
     "name": "#%% md\n"
    }
   }
  },
  {
   "cell_type": "code",
   "execution_count": 18,
   "outputs": [
    {
     "name": "stdout",
     "output_type": "stream",
     "text": [
      "  Пользователь         Статус  Количество\n",
      "0      userman      Completed           4\n",
      "1      userman       Watching           1\n",
      "2      userman  Plan to Watch           1\n",
      "3      userman        Dropped           1\n"
     ]
    }
   ],
   "source": [
    "select_result = pd.read_sql(f'''\n",
    " SELECT\n",
    " user_login AS Пользователь,\n",
    " status_name AS Статус,\n",
    " count(status_name) AS Количество\n",
    " FROM\n",
    " user\n",
    " JOIN user_list_movie list ON user.user_id = list.user_id\n",
    " JOIN user_status ON list.status_id = user_status.status_id\n",
    " WHERE\n",
    " user.user_login = '{username}'\n",
    " GROUP BY\n",
    " list.status_id\n",
    "''', connection)\n",
    "print(select_result)"
   ],
   "metadata": {
    "collapsed": false,
    "pycharm": {
     "name": "#%%\n"
    }
   }
  },
  {
   "cell_type": "code",
   "execution_count": 19,
   "outputs": [
    {
     "name": "stdout",
     "output_type": "stream",
     "text": [
      "                                Фильм  Отзывы\n",
      "0   Everything Everywhere All at Once       2\n",
      "1                        Harley Quinn       2\n",
      "2             Spider-Man: No Way Home       2\n",
      "3                               Logan       1\n",
      "4                           Daredevil       1\n",
      "5                   Avengers: Endgame       1\n",
      "6                           Mr. Robot       1\n",
      "7                     Stranger Things       1\n",
      "8   Spider-Man: Into the Spider-Verse       1\n",
      "9                      Mob Psycho 100       1\n",
      "10                    The Mandalorian       1\n",
      "11               Love, Death & Robots       1\n",
      "12                 The Queen's Gambit       1\n",
      "13                             Primal       1\n",
      "14                             Arcane       1\n"
     ]
    }
   ],
   "source": [
    "select_result = pd.read_sql(f'''\n",
    " SELECT\n",
    " movie_name AS Фильм,\n",
    " count(movie.movie_id) AS Отзывы\n",
    " FROM\n",
    " movie\n",
    " JOIN user_list_movie list ON movie.movie_id = list.movie_id\n",
    " GROUP BY\n",
    " movie.movie_id\n",
    " ORDER BY\n",
    " Отзывы DESC\n",
    "''', connection)\n",
    "print(select_result)"
   ],
   "metadata": {
    "collapsed": false,
    "pycharm": {
     "name": "#%%\n"
    }
   }
  },
  {
   "cell_type": "markdown",
   "source": [
    "### Два запроса со вложенными запросами или табличными выражениями (WITH ...)\n",
    "1. Обновление оценок фильмов по средней оценке отзывов\n",
    "2. Общие фильмы в списках двух пользователей"
   ],
   "metadata": {
    "collapsed": false,
    "pycharm": {
     "name": "#%% md\n"
    }
   }
  },
  {
   "cell_type": "code",
   "execution_count": 35,
   "outputs": [],
   "source": [
    "cursor.execute(f'''\n",
    " WITH rating AS (\n",
    "     SELECT\n",
    "     movie.movie_id AS id,\n",
    "     avg(list.user_list_movie_rating) AS score\n",
    "     FROM\n",
    "     movie\n",
    "     JOIN user_list_movie list ON movie.movie_id = list.movie_id\n",
    "     GROUP BY\n",
    "     movie.movie_id\n",
    " )\n",
    " UPDATE\n",
    " movie\n",
    " SET\n",
    " movie_rating = rating.score\n",
    " FROM\n",
    " rating\n",
    " WHERE\n",
    " rating.id = movie.movie_id\n",
    "''');"
   ],
   "metadata": {
    "collapsed": false,
    "pycharm": {
     "name": "#%%\n"
    }
   }
  },
  {
   "cell_type": "code",
   "execution_count": 41,
   "outputs": [
    {
     "name": "stdout",
     "output_type": "stream",
     "text": [
      "                               Фильм  Оценка  Год выхода\n",
      "0  Everything Everywhere All at Once    10.0        2022\n",
      "1            Spider-Man: No Way Home     9.5        2021\n",
      "2                       Harley Quinn     6.5        2019\n"
     ]
    }
   ],
   "source": [
    "friend_username = \"qwerty\"\n",
    "\n",
    "select_result = pd.read_sql(f'''\n",
    " WITH friend_list AS (\n",
    "     SELECT\n",
    "     list.movie_id\n",
    "     FROM\n",
    "     user\n",
    "     JOIN user_list_movie list ON user.user_id = list.user_id\n",
    "     WHERE\n",
    "     user.user_login = '{friend_username}'\n",
    " )\n",
    " SELECT\n",
    " movie_name AS Фильм,\n",
    " movie_rating AS Оценка,\n",
    " movie_release_year AS 'Год выхода'\n",
    " FROM\n",
    " user\n",
    " JOIN user_list_movie list ON user.user_id = list.user_id\n",
    " JOIN movie ON list.movie_id = movie.movie_id\n",
    " WHERE\n",
    " user.user_login = '{username}'\n",
    " AND\n",
    " list.movie_id IN friend_list\n",
    " ORDER BY\n",
    " Оценка DESC\n",
    "''', connection)\n",
    "print(select_result)"
   ],
   "metadata": {
    "collapsed": false,
    "pycharm": {
     "name": "#%%\n"
    }
   }
  },
  {
   "cell_type": "markdown",
   "source": [
    "### Два запроса корректировки данных (обновление, добавление, удаление и пр)\n",
    "1. Обновление рейтинга у фильма, на основе всех рецензий по фильму от пользователей\n",
    "2. Регистрация нового пользователя"
   ],
   "metadata": {
    "collapsed": false,
    "pycharm": {
     "name": "#%% md\n"
    }
   }
  },
  {
   "cell_type": "code",
   "execution_count": null,
   "outputs": [],
   "source": [
    "from time import time\n",
    "\n",
    "new_user_login = \"flask\"\n",
    "new_user_password = \"python\"\n",
    "new_user_registration_date = int(time())\n",
    "\n",
    "cursor.execute(f'''\n",
    " INSERT INTO\n",
    " user (user_login, user_password, registration_date)\n",
    " VALUES\n",
    " ('{new_user_login}', '{new_user_password}', {new_user_registration_date})\n",
    "''');"
   ],
   "metadata": {
    "collapsed": false,
    "pycharm": {
     "name": "#%%\n",
     "is_executing": true
    }
   }
  },
  {
   "cell_type": "code",
   "execution_count": 38,
   "outputs": [],
   "source": [
    "connection.commit()"
   ],
   "metadata": {
    "collapsed": false,
    "pycharm": {
     "name": "#%%\n"
    }
   }
  }
 ],
 "metadata": {
  "kernelspec": {
   "display_name": "Python 3",
   "language": "python",
   "name": "python3"
  },
  "language_info": {
   "codemirror_mode": {
    "name": "ipython",
    "version": 2
   },
   "file_extension": ".py",
   "mimetype": "text/x-python",
   "name": "python",
   "nbconvert_exporter": "python",
   "pygments_lexer": "ipython2",
   "version": "2.7.6"
  }
 },
 "nbformat": 4,
 "nbformat_minor": 0
}