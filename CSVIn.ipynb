{
 "cells": [
  {
   "cell_type": "code",
   "execution_count": 1,
   "metadata": {
    "collapsed": true,
    "pycharm": {
     "name": "#%%\n"
    }
   },
   "outputs": [],
   "source": [
    "import pandas as pd\n",
    "import numpy as np\n",
    "import sqlite3"
   ]
  },
  {
   "cell_type": "code",
   "execution_count": 2,
   "outputs": [],
   "source": [
    "# Фильмы из топ-250, сериалы тоже вроде как\n",
    "films_headers = ['movie_id', 'title', 'imdb_score', 'release_year', 'duration_minutes', 'movie_type_id', 'description']\n",
    "# Фильм-жанр\n",
    "films_genre_headers = ['genre_id', 'movie_id']\n",
    "# Съемочная группа\n",
    "films_cast_headers = ['person_id', 'movie_id', 'role_id']\n",
    "# Люди, замеченные в фильмах\n",
    "films_person_headers = ['person_id', 'name']"
   ],
   "metadata": {
    "collapsed": false,
    "pycharm": {
     "name": "#%%\n"
    }
   }
  },
  {
   "cell_type": "code",
   "execution_count": 3,
   "outputs": [
    {
     "data": {
      "text/plain": "   movie_id                     title  imdb_score  release_year  \\\n0    111161  The Shawshank Redemption         9.3          1994   \n1     68646             The Godfather         9.2          1972   \n2    468569           The Dark Knight         9.0          2008   \n3     71562     The Godfather Part II         9.0          1974   \n4     50083              12 Angry Men         9.0          1957   \n\n   duration_minutes  movie_type_id  \\\n0               142              0   \n1               175              0   \n2               152              0   \n3               202              0   \n4                96              0   \n\n                                         description  \n0  Two imprisoned men bond over a number of years...  \n1  The aging patriarch of an organized crime dyna...  \n2  When the menace known as the Joker wreaks havo...  \n3  The early life and career of Vito Corleone in ...  \n4  The jury in a New York City murder trial is fr...  ",
      "text/html": "<div>\n<style scoped>\n    .dataframe tbody tr th:only-of-type {\n        vertical-align: middle;\n    }\n\n    .dataframe tbody tr th {\n        vertical-align: top;\n    }\n\n    .dataframe thead th {\n        text-align: right;\n    }\n</style>\n<table border=\"1\" class=\"dataframe\">\n  <thead>\n    <tr style=\"text-align: right;\">\n      <th></th>\n      <th>movie_id</th>\n      <th>title</th>\n      <th>imdb_score</th>\n      <th>release_year</th>\n      <th>duration_minutes</th>\n      <th>movie_type_id</th>\n      <th>description</th>\n    </tr>\n  </thead>\n  <tbody>\n    <tr>\n      <th>0</th>\n      <td>111161</td>\n      <td>The Shawshank Redemption</td>\n      <td>9.3</td>\n      <td>1994</td>\n      <td>142</td>\n      <td>0</td>\n      <td>Two imprisoned men bond over a number of years...</td>\n    </tr>\n    <tr>\n      <th>1</th>\n      <td>68646</td>\n      <td>The Godfather</td>\n      <td>9.2</td>\n      <td>1972</td>\n      <td>175</td>\n      <td>0</td>\n      <td>The aging patriarch of an organized crime dyna...</td>\n    </tr>\n    <tr>\n      <th>2</th>\n      <td>468569</td>\n      <td>The Dark Knight</td>\n      <td>9.0</td>\n      <td>2008</td>\n      <td>152</td>\n      <td>0</td>\n      <td>When the menace known as the Joker wreaks havo...</td>\n    </tr>\n    <tr>\n      <th>3</th>\n      <td>71562</td>\n      <td>The Godfather Part II</td>\n      <td>9.0</td>\n      <td>1974</td>\n      <td>202</td>\n      <td>0</td>\n      <td>The early life and career of Vito Corleone in ...</td>\n    </tr>\n    <tr>\n      <th>4</th>\n      <td>50083</td>\n      <td>12 Angry Men</td>\n      <td>9.0</td>\n      <td>1957</td>\n      <td>96</td>\n      <td>0</td>\n      <td>The jury in a New York City murder trial is fr...</td>\n    </tr>\n  </tbody>\n</table>\n</div>"
     },
     "execution_count": 3,
     "metadata": {},
     "output_type": "execute_result"
    }
   ],
   "source": [
    "data = pd.read_csv('D:\\CodeJB\\Python\\wop\\DataCSV\\\\films.csv', names=films_headers)\n",
    "data.head()"
   ],
   "metadata": {
    "collapsed": false,
    "pycharm": {
     "name": "#%%\n"
    }
   }
  },
  {
   "cell_type": "code",
   "execution_count": 4,
   "outputs": [],
   "source": [
    "connection = sqlite3.connect(\"kino.sqlite\")\n",
    "cursor = connection.cursor()"
   ],
   "metadata": {
    "collapsed": false,
    "pycharm": {
     "name": "#%%\n"
    }
   }
  },
  {
   "cell_type": "markdown",
   "source": [
    "### Заполнение таблиц из словарей"
   ],
   "metadata": {
    "collapsed": false,
    "pycharm": {
     "name": "#%% md\n"
    }
   }
  },
  {
   "cell_type": "code",
   "execution_count": 5,
   "outputs": [],
   "source": [
    "genre_id = dict({\n",
    "    'Action': 0,\n",
    "    'Adventure': 1,\n",
    "    'Animation': 2,\n",
    "    'Biography': 3,\n",
    "    'Comedy': 4,\n",
    "    'Crime': 5,\n",
    "    'Documentary': 6,\n",
    "    'Drama': 7,\n",
    "    'Family': 8,\n",
    "    'Fantasy': 9,\n",
    "    'Film-Noir': 10,\n",
    "    'History': 11,\n",
    "    'Horror': 12,\n",
    "    'Music': 13,\n",
    "    'Musical': 14,\n",
    "    'Mystery': 15,\n",
    "    'Romance': 16,\n",
    "    'Sci-Fi': 17,\n",
    "    'Short': 18,\n",
    "    'Sport': 19,\n",
    "    'Superhero': 20,\n",
    "    'Thriller': 21,\n",
    "    'War': 22,\n",
    "    'Western': 23,\n",
    "    'Talk-Show': 24,\n",
    "    'Reality-TV': 25,\n",
    "    'News': 26,\n",
    "    'Game-Show': 27\n",
    "})\n",
    "\n",
    "crew_id = dict({\n",
    "    'Creators': 0,\n",
    "    'Stars': 1,\n",
    "    'Directors': 2,\n",
    "    'Writers': 3,\n",
    "})\n",
    "\n",
    "movie_type_id = dict({\n",
    "    'Movie': 0,\n",
    "    'TV Series': 1,\n",
    "    'TV Mini Series': 2,\n",
    "})\n",
    "\n",
    "user_status_id = dict({\n",
    "    'Completed': 0,\n",
    "    'Watching': 1,\n",
    "    'Plan to Watch': 2,\n",
    "    'Dropped': 3,\n",
    "})"
   ],
   "metadata": {
    "collapsed": false,
    "pycharm": {
     "name": "#%%\n"
    }
   }
  },
  {
   "cell_type": "code",
   "execution_count": 6,
   "outputs": [],
   "source": [
    "# Заполнение жанров\n",
    "# for g_name, g_id in genre_id.items():\n",
    "#     sql_insert = f\"INSERT INTO genre (genre_name, genre_id) VALUES ('{g_name}', {g_id})\"\n",
    "#     cursor.execute(sql_insert)\n",
    "# connection.commit()"
   ],
   "metadata": {
    "collapsed": false,
    "pycharm": {
     "name": "#%%\n"
    }
   }
  },
  {
   "cell_type": "code",
   "execution_count": 7,
   "outputs": [],
   "source": [
    "# Заполнение ролей\n",
    "# for cr_name, cr_id in crew_id.items():\n",
    "#     sql_insert = f\"INSERT INTO crew_role (crew_role_name, crew_role_id) VALUES ('{cr_name}', {cr_id})\"\n",
    "#     cursor.execute(sql_insert)\n",
    "# connection.commit()"
   ],
   "metadata": {
    "collapsed": false,
    "pycharm": {
     "name": "#%%\n"
    }
   }
  },
  {
   "cell_type": "code",
   "execution_count": 8,
   "outputs": [],
   "source": [
    "# # Заполнение типов фильмов\n",
    "# for mt_name, mt_id in movie_type_id.items():\n",
    "#     sql_insert = f\"INSERT INTO movie_type (movie_type_name, movie_type_id) VALUES ('{mt_name}', {mt_id})\"\n",
    "#     cursor.execute(sql_insert)\n",
    "# connection.commit()"
   ],
   "metadata": {
    "collapsed": false,
    "pycharm": {
     "name": "#%%\n"
    }
   }
  },
  {
   "cell_type": "code",
   "execution_count": 9,
   "outputs": [],
   "source": [
    "# Статусы пользователя\n",
    "# for us_name, us_id in user_status_id.items():\n",
    "#     sql_insert = f\"INSERT INTO user_status (status_name, status_id) VALUES ('{us_name}', {us_id})\"\n",
    "#     cursor.execute(sql_insert)\n",
    "# connection.commit()"
   ],
   "metadata": {
    "collapsed": false,
    "pycharm": {
     "name": "#%%\n"
    }
   }
  },
  {
   "cell_type": "markdown",
   "source": [
    "### Заполнение таблиц о фильмах"
   ],
   "metadata": {
    "collapsed": false,
    "pycharm": {
     "name": "#%% md\n"
    }
   }
  },
  {
   "cell_type": "code",
   "execution_count": 6,
   "outputs": [
    {
     "name": "stdout",
     "output_type": "stream",
     "text": [
      "1585\n",
      "982\n"
     ]
    }
   ],
   "source": [
    "# Начинаем заполнять с людей, объединяя фильмы и сериалы. Для людей нужно выкинуть дубликаты в pandas\n",
    "persons_film = pd.read_csv('D:\\CodeJB\\Python\\wop\\DataCSV\\\\films_person.csv', names=films_person_headers)\n",
    "print(persons_film.count()[0])\n",
    "persons_tv = pd.read_csv('D:\\CodeJB\\Python\\wop\\DataCSV\\\\tv_shows_person.csv', names=films_person_headers)\n",
    "print(persons_tv.count()[0])"
   ],
   "metadata": {
    "collapsed": false,
    "pycharm": {
     "name": "#%%\n"
    }
   }
  },
  {
   "cell_type": "code",
   "execution_count": 7,
   "outputs": [
    {
     "data": {
      "text/plain": "2567"
     },
     "execution_count": 7,
     "metadata": {},
     "output_type": "execute_result"
    }
   ],
   "source": [
    "new_df = pd.concat([persons_film, persons_tv])\n",
    "new_df.count()[0]"
   ],
   "metadata": {
    "collapsed": false,
    "pycharm": {
     "name": "#%%\n"
    }
   }
  },
  {
   "cell_type": "code",
   "execution_count": 8,
   "outputs": [
    {
     "data": {
      "text/plain": "1875"
     },
     "execution_count": 8,
     "metadata": {},
     "output_type": "execute_result"
    }
   ],
   "source": [
    "new_df = new_df.drop_duplicates()\n",
    "new_df.count()[0]"
   ],
   "metadata": {
    "collapsed": false,
    "pycharm": {
     "name": "#%%\n"
    }
   }
  },
  {
   "cell_type": "code",
   "execution_count": 43,
   "outputs": [
    {
     "data": {
      "text/plain": "   person_id            name\n0       1104  Frank Darabont\n1        175    Stephen King\n3        209     Tim Robbins\n4        151  Morgan Freeman\n5     348409      Bob Gunton",
      "text/html": "<div>\n<style scoped>\n    .dataframe tbody tr th:only-of-type {\n        vertical-align: middle;\n    }\n\n    .dataframe tbody tr th {\n        vertical-align: top;\n    }\n\n    .dataframe thead th {\n        text-align: right;\n    }\n</style>\n<table border=\"1\" class=\"dataframe\">\n  <thead>\n    <tr style=\"text-align: right;\">\n      <th></th>\n      <th>person_id</th>\n      <th>name</th>\n    </tr>\n  </thead>\n  <tbody>\n    <tr>\n      <th>0</th>\n      <td>1104</td>\n      <td>Frank Darabont</td>\n    </tr>\n    <tr>\n      <th>1</th>\n      <td>175</td>\n      <td>Stephen King</td>\n    </tr>\n    <tr>\n      <th>3</th>\n      <td>209</td>\n      <td>Tim Robbins</td>\n    </tr>\n    <tr>\n      <th>4</th>\n      <td>151</td>\n      <td>Morgan Freeman</td>\n    </tr>\n    <tr>\n      <th>5</th>\n      <td>348409</td>\n      <td>Bob Gunton</td>\n    </tr>\n  </tbody>\n</table>\n</div>"
     },
     "execution_count": 43,
     "metadata": {},
     "output_type": "execute_result"
    }
   ],
   "source": [
    "new_df.head()"
   ],
   "metadata": {
    "collapsed": false,
    "pycharm": {
     "name": "#%%\n"
    }
   }
  },
  {
   "cell_type": "code",
   "execution_count": null,
   "outputs": [],
   "source": [
    "# Загрузка людей\n",
    "# for tup in new_df.itertuples():\n",
    "#     name_single_quote = tup.name.replace('\\'', '\\'\\'')\n",
    "#     sql_insert = f\"INSERT OR REPLACE INTO person (person_id, person_name) VALUES ({tup.person_id}, '{name_single_quote}')\"\n",
    "#     cursor.execute(sql_insert)\n",
    "# connection.commit()"
   ],
   "metadata": {
    "collapsed": false,
    "pycharm": {
     "name": "#%%\n",
     "is_executing": true
    }
   }
  },
  {
   "cell_type": "code",
   "execution_count": 11,
   "outputs": [
    {
     "name": "stdout",
     "output_type": "stream",
     "text": [
      "250\n",
      "250\n"
     ]
    }
   ],
   "source": [
    "# Фильмы\n",
    "films = pd.read_csv('D:\\CodeJB\\Python\\wop\\DataCSV\\\\films.csv', names=films_headers)\n",
    "print(films.count()[0])\n",
    "tv = pd.read_csv('D:\\CodeJB\\Python\\wop\\DataCSV\\\\tv_shows.csv', names=films_headers)\n",
    "print(tv.count()[0])"
   ],
   "metadata": {
    "collapsed": false,
    "pycharm": {
     "name": "#%%\n"
    }
   }
  },
  {
   "cell_type": "code",
   "execution_count": null,
   "outputs": [],
   "source": [
    "new_df = pd.concat([films, tv])\n",
    "print(new_df.count()[0])\n",
    "new_df = new_df.drop_duplicates()\n",
    "print(new_df.count()[0])"
   ],
   "metadata": {
    "collapsed": false,
    "pycharm": {
     "name": "#%%\n"
    }
   }
  },
  {
   "cell_type": "code",
   "execution_count": 14,
   "outputs": [
    {
     "data": {
      "text/plain": "   movie_id                     title  imdb_score  release_year  \\\n0    111161  The Shawshank Redemption         9.3          1994   \n1     68646             The Godfather         9.2          1972   \n2    468569           The Dark Knight         9.0          2008   \n3     71562     The Godfather Part II         9.0          1974   \n4     50083              12 Angry Men         9.0          1957   \n\n   duration_minutes  movie_type_id  \\\n0               142              0   \n1               175              0   \n2               152              0   \n3               202              0   \n4                96              0   \n\n                                         description  \n0  Two imprisoned men bond over a number of years...  \n1  The aging patriarch of an organized crime dyna...  \n2  When the menace known as the Joker wreaks havo...  \n3  The early life and career of Vito Corleone in ...  \n4  The jury in a New York City murder trial is fr...  ",
      "text/html": "<div>\n<style scoped>\n    .dataframe tbody tr th:only-of-type {\n        vertical-align: middle;\n    }\n\n    .dataframe tbody tr th {\n        vertical-align: top;\n    }\n\n    .dataframe thead th {\n        text-align: right;\n    }\n</style>\n<table border=\"1\" class=\"dataframe\">\n  <thead>\n    <tr style=\"text-align: right;\">\n      <th></th>\n      <th>movie_id</th>\n      <th>title</th>\n      <th>imdb_score</th>\n      <th>release_year</th>\n      <th>duration_minutes</th>\n      <th>movie_type_id</th>\n      <th>description</th>\n    </tr>\n  </thead>\n  <tbody>\n    <tr>\n      <th>0</th>\n      <td>111161</td>\n      <td>The Shawshank Redemption</td>\n      <td>9.3</td>\n      <td>1994</td>\n      <td>142</td>\n      <td>0</td>\n      <td>Two imprisoned men bond over a number of years...</td>\n    </tr>\n    <tr>\n      <th>1</th>\n      <td>68646</td>\n      <td>The Godfather</td>\n      <td>9.2</td>\n      <td>1972</td>\n      <td>175</td>\n      <td>0</td>\n      <td>The aging patriarch of an organized crime dyna...</td>\n    </tr>\n    <tr>\n      <th>2</th>\n      <td>468569</td>\n      <td>The Dark Knight</td>\n      <td>9.0</td>\n      <td>2008</td>\n      <td>152</td>\n      <td>0</td>\n      <td>When the menace known as the Joker wreaks havo...</td>\n    </tr>\n    <tr>\n      <th>3</th>\n      <td>71562</td>\n      <td>The Godfather Part II</td>\n      <td>9.0</td>\n      <td>1974</td>\n      <td>202</td>\n      <td>0</td>\n      <td>The early life and career of Vito Corleone in ...</td>\n    </tr>\n    <tr>\n      <th>4</th>\n      <td>50083</td>\n      <td>12 Angry Men</td>\n      <td>9.0</td>\n      <td>1957</td>\n      <td>96</td>\n      <td>0</td>\n      <td>The jury in a New York City murder trial is fr...</td>\n    </tr>\n  </tbody>\n</table>\n</div>"
     },
     "execution_count": 14,
     "metadata": {},
     "output_type": "execute_result"
    }
   ],
   "source": [
    "new_df.head()"
   ],
   "metadata": {
    "collapsed": false,
    "pycharm": {
     "name": "#%%\n"
    }
   }
  },
  {
   "cell_type": "code",
   "execution_count": 20,
   "outputs": [],
   "source": [
    "# Загрузка фильмов\n",
    "# for tup in new_df.itertuples():\n",
    "#     name_single_quote = tup.title.replace('\\'', '\\'\\'')\n",
    "#     description_single_quote = tup.description.replace('\\'', '\\'\\'')\n",
    "#     sql_insert = f\"INSERT INTO \" \\\n",
    "#                  f\"movie (movie_id, movie_name, movie_release_year, movie_duration_minutes, movie_description, movie_type_id) VALUES ({tup.movie_id}, '{name_single_quote}', {tup.release_year}, {tup.duration_minutes}, '{description_single_quote}', {tup.movie_type_id})\"\n",
    "#     cursor.execute(sql_insert)\n",
    "# connection.commit()"
   ],
   "metadata": {
    "collapsed": false,
    "pycharm": {
     "name": "#%%\n"
    }
   }
  },
  {
   "cell_type": "code",
   "execution_count": 21,
   "outputs": [
    {
     "name": "stdout",
     "output_type": "stream",
     "text": [
      "627\n",
      "594\n"
     ]
    }
   ],
   "source": [
    "# Жанры фильмов\n",
    "genres_film = pd.read_csv('D:\\CodeJB\\Python\\wop\\DataCSV\\\\films_genre.csv', names=films_genre_headers)\n",
    "print(genres_film.count()[0])\n",
    "genres_tv = pd.read_csv('D:\\CodeJB\\Python\\wop\\DataCSV\\\\tv_shows_genre.csv', names=films_genre_headers)\n",
    "print(genres_tv.count()[0])"
   ],
   "metadata": {
    "collapsed": false,
    "pycharm": {
     "name": "#%%\n"
    }
   }
  },
  {
   "cell_type": "code",
   "execution_count": 23,
   "outputs": [
    {
     "name": "stdout",
     "output_type": "stream",
     "text": [
      "1221\n"
     ]
    }
   ],
   "source": [
    "new_df = pd.concat([genres_film, genres_tv])\n",
    "print(new_df.count()[0])"
   ],
   "metadata": {
    "collapsed": false,
    "pycharm": {
     "name": "#%%\n"
    }
   }
  },
  {
   "cell_type": "code",
   "execution_count": 24,
   "outputs": [
    {
     "data": {
      "text/plain": "   genre_id  movie_id\n0         7    111161\n1         5     68646\n2         7     68646\n3         0    468569\n4         5    468569",
      "text/html": "<div>\n<style scoped>\n    .dataframe tbody tr th:only-of-type {\n        vertical-align: middle;\n    }\n\n    .dataframe tbody tr th {\n        vertical-align: top;\n    }\n\n    .dataframe thead th {\n        text-align: right;\n    }\n</style>\n<table border=\"1\" class=\"dataframe\">\n  <thead>\n    <tr style=\"text-align: right;\">\n      <th></th>\n      <th>genre_id</th>\n      <th>movie_id</th>\n    </tr>\n  </thead>\n  <tbody>\n    <tr>\n      <th>0</th>\n      <td>7</td>\n      <td>111161</td>\n    </tr>\n    <tr>\n      <th>1</th>\n      <td>5</td>\n      <td>68646</td>\n    </tr>\n    <tr>\n      <th>2</th>\n      <td>7</td>\n      <td>68646</td>\n    </tr>\n    <tr>\n      <th>3</th>\n      <td>0</td>\n      <td>468569</td>\n    </tr>\n    <tr>\n      <th>4</th>\n      <td>5</td>\n      <td>468569</td>\n    </tr>\n  </tbody>\n</table>\n</div>"
     },
     "execution_count": 24,
     "metadata": {},
     "output_type": "execute_result"
    }
   ],
   "source": [
    "new_df.head()"
   ],
   "metadata": {
    "collapsed": false,
    "pycharm": {
     "name": "#%%\n"
    }
   }
  },
  {
   "cell_type": "code",
   "execution_count": 25,
   "outputs": [],
   "source": [
    "# Загрузка жанров фильмов\n",
    "# for tup in new_df.itertuples():\n",
    "#     sql_insert = f\"INSERT INTO movie_genre (genre_id, movie_id) VALUES ({tup.genre_id}, {tup.movie_id})\"\n",
    "#     cursor.execute(sql_insert)\n",
    "# connection.commit()"
   ],
   "metadata": {
    "collapsed": false,
    "pycharm": {
     "name": "#%%\n"
    }
   }
  },
  {
   "cell_type": "code",
   "execution_count": 26,
   "outputs": [
    {
     "name": "stdout",
     "output_type": "stream",
     "text": [
      "1585\n",
      "982\n"
     ]
    }
   ],
   "source": [
    "# Члены съемочных групп фильмов\n",
    "cast_film = pd.read_csv('D:\\CodeJB\\Python\\wop\\DataCSV\\\\films_cast.csv', names=films_cast_headers)\n",
    "print(cast_film.count()[0])\n",
    "cast_tv = pd.read_csv('D:\\CodeJB\\Python\\wop\\DataCSV\\\\tv_shows_cast.csv', names=films_cast_headers)\n",
    "print(cast_tv.count()[0])"
   ],
   "metadata": {
    "collapsed": false,
    "pycharm": {
     "name": "#%%\n"
    }
   }
  },
  {
   "cell_type": "code",
   "execution_count": 28,
   "outputs": [
    {
     "name": "stdout",
     "output_type": "stream",
     "text": [
      "2567\n"
     ]
    }
   ],
   "source": [
    "new_df = pd.concat([cast_film, cast_tv])\n",
    "print(new_df.count()[0])"
   ],
   "metadata": {
    "collapsed": false,
    "pycharm": {
     "name": "#%%\n"
    }
   }
  },
  {
   "cell_type": "code",
   "execution_count": 29,
   "outputs": [
    {
     "data": {
      "text/plain": "   person_id  movie_id  role_id\n0       1104    111161        2\n1        175    111161        3\n2       1104    111161        3\n3        209    111161        1\n4        151    111161        1",
      "text/html": "<div>\n<style scoped>\n    .dataframe tbody tr th:only-of-type {\n        vertical-align: middle;\n    }\n\n    .dataframe tbody tr th {\n        vertical-align: top;\n    }\n\n    .dataframe thead th {\n        text-align: right;\n    }\n</style>\n<table border=\"1\" class=\"dataframe\">\n  <thead>\n    <tr style=\"text-align: right;\">\n      <th></th>\n      <th>person_id</th>\n      <th>movie_id</th>\n      <th>role_id</th>\n    </tr>\n  </thead>\n  <tbody>\n    <tr>\n      <th>0</th>\n      <td>1104</td>\n      <td>111161</td>\n      <td>2</td>\n    </tr>\n    <tr>\n      <th>1</th>\n      <td>175</td>\n      <td>111161</td>\n      <td>3</td>\n    </tr>\n    <tr>\n      <th>2</th>\n      <td>1104</td>\n      <td>111161</td>\n      <td>3</td>\n    </tr>\n    <tr>\n      <th>3</th>\n      <td>209</td>\n      <td>111161</td>\n      <td>1</td>\n    </tr>\n    <tr>\n      <th>4</th>\n      <td>151</td>\n      <td>111161</td>\n      <td>1</td>\n    </tr>\n  </tbody>\n</table>\n</div>"
     },
     "execution_count": 29,
     "metadata": {},
     "output_type": "execute_result"
    }
   ],
   "source": [
    "new_df.head()"
   ],
   "metadata": {
    "collapsed": false,
    "pycharm": {
     "name": "#%%\n"
    }
   }
  },
  {
   "cell_type": "code",
   "execution_count": 32,
   "outputs": [],
   "source": [
    "# Загрузка съемочных групп\n",
    "for tup in new_df.itertuples():\n",
    "    sql_insert = f\"INSERT OR REPLACE INTO crew_member (person_id, movie_id, crew_role_id) VALUES ({tup.person_id}, {tup.movie_id}, {tup.role_id})\"\n",
    "    cursor.execute(sql_insert)\n",
    "connection.commit()"
   ],
   "metadata": {
    "collapsed": false,
    "pycharm": {
     "name": "#%%\n"
    }
   }
  }
 ],
 "metadata": {
  "kernelspec": {
   "display_name": "Python 3",
   "language": "python",
   "name": "python3"
  },
  "language_info": {
   "codemirror_mode": {
    "name": "ipython",
    "version": 2
   },
   "file_extension": ".py",
   "mimetype": "text/x-python",
   "name": "python",
   "nbconvert_exporter": "python",
   "pygments_lexer": "ipython2",
   "version": "2.7.6"
  }
 },
 "nbformat": 4,
 "nbformat_minor": 0
}